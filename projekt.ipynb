{
 "cells": [
  {
   "cell_type": "code",
   "execution_count": 11,
   "id": "4060a809",
   "metadata": {},
   "outputs": [],
   "source": [
    "import os\n",
    "import torch"
   ]
  },
  {
   "cell_type": "code",
   "execution_count": 12,
   "id": "6637a81c",
   "metadata": {},
   "outputs": [],
   "source": [
    "# dataset\n",
    "# test labels - Dataset/Kaggle/labels/test\n",
    "# test images - Dataset/Kaggle/images/test'"
   ]
  },
  {
   "cell_type": "code",
   "execution_count": 13,
   "id": "0d215c8b",
   "metadata": {},
   "outputs": [
    {
     "name": "stdout",
     "output_type": "stream",
     "text": [
      "yolov5s.pt\n"
     ]
    }
   ],
   "source": [
    "path = os.path.join('yolov5s.pt')\n",
    "print(path)"
   ]
  },
  {
   "cell_type": "code",
   "execution_count": 14,
   "id": "5cc19a9c",
   "metadata": {},
   "outputs": [
    {
     "name": "stdout",
     "output_type": "stream",
     "text": [
      "cpu\n"
     ]
    }
   ],
   "source": [
    "device = torch.device(\"cuda:0\" if torch.cuda.is_available() else \"cpu\")\n",
    "print(device)"
   ]
  },
  {
   "cell_type": "code",
   "execution_count": 19,
   "id": "c995cf62",
   "metadata": {},
   "outputs": [
    {
     "ename": "NameError",
     "evalue": "name '__file__' is not defined",
     "output_type": "error",
     "traceback": [
      "\u001b[1;31m---------------------------------------------------------------------------\u001b[0m",
      "\u001b[1;31mNameError\u001b[0m                                 Traceback (most recent call last)",
      "Cell \u001b[1;32mIn[19], line 5\u001b[0m\n\u001b[0;32m      3\u001b[0m weights \u001b[39m=\u001b[39m torch\u001b[39m.\u001b[39mload(path)\n\u001b[0;32m      4\u001b[0m dnn\u001b[39m=\u001b[39m\u001b[39mFalse\u001b[39;00m\n\u001b[1;32m----> 5\u001b[0m FILE \u001b[39m=\u001b[39m Path(\u001b[39m__file__\u001b[39;49m)\u001b[39m.\u001b[39mresolve()\n\u001b[0;32m      6\u001b[0m ROOT \u001b[39m=\u001b[39m FILE\u001b[39m.\u001b[39mparents[\u001b[39m0\u001b[39m]  \u001b[39m# YOLOv5 root directory\u001b[39;00m\n\u001b[0;32m      7\u001b[0m data\u001b[39m=\u001b[39mROOT \u001b[39m/\u001b[39m \u001b[39m'\u001b[39m\u001b[39mdata/coco128.yaml\u001b[39m\u001b[39m'\u001b[39m\n",
      "\u001b[1;31mNameError\u001b[0m: name '__file__' is not defined"
     ]
    }
   ],
   "source": [
    "from models.common import DetectMultiBackend\n",
    "from pathlib import Path\n",
    "weights = torch.load(path)\n",
    "dnn=False\n",
    "FILE = Path(__file__).resolve()\n",
    "ROOT = FILE.parents[0]  # YOLOv5 root directory\n",
    "data=ROOT / 'data/coco128.yaml'\n",
    "half=False\n",
    "\n",
    "model = DetectMultiBackend(weights, device=device, dnn=dnn, data=data, fp16=half)"
   ]
  },
  {
   "cell_type": "code",
   "execution_count": null,
   "id": "eddc2e85",
   "metadata": {},
   "outputs": [],
   "source": []
  }
 ],
 "metadata": {
  "kernelspec": {
   "display_name": "vision",
   "language": "python",
   "name": "python3"
  },
  "language_info": {
   "codemirror_mode": {
    "name": "ipython",
    "version": 3
   },
   "file_extension": ".py",
   "mimetype": "text/x-python",
   "name": "python",
   "nbconvert_exporter": "python",
   "pygments_lexer": "ipython3",
   "version": "3.9.15"
  },
  "vscode": {
   "interpreter": {
    "hash": "0a78e3431cb24644c5e8b01d296a75280c98bc365a09c978e94b4f59ead8abd2"
   }
  }
 },
 "nbformat": 4,
 "nbformat_minor": 5
}
